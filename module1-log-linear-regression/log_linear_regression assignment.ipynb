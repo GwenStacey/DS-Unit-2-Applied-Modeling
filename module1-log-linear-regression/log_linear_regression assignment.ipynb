{
 "cells": [
  {
   "cell_type": "code",
   "execution_count": 3,
   "metadata": {},
   "outputs": [],
   "source": [
    "import pandas as pd\n",
    "import numpy as np\n",
    "import matplotlib.pyplot as plt"
   ]
  },
  {
   "cell_type": "code",
   "execution_count": 7,
   "metadata": {},
   "outputs": [
    {
     "name": "stdout",
     "output_type": "stream",
     "text": [
      "competition_data\\bill_of_materials.csv (21198, 17)\n",
      "competition_data\\components.csv (2048, 3)\n",
      "competition_data\\comp_adaptor.csv (25, 20)\n",
      "competition_data\\comp_boss.csv (147, 15)\n",
      "competition_data\\comp_elbow.csv (178, 16)\n",
      "competition_data\\comp_float.csv (16, 7)\n",
      "competition_data\\comp_hfl.csv (6, 9)\n",
      "competition_data\\comp_nut.csv (65, 11)\n",
      "competition_data\\comp_other.csv (1001, 3)\n",
      "competition_data\\comp_sleeve.csv (50, 10)\n",
      "competition_data\\comp_straight.csv (361, 12)\n",
      "competition_data\\comp_tee.csv (4, 14)\n",
      "competition_data\\comp_threaded.csv (194, 32)\n",
      "competition_data\\specs.csv (21198, 11)\n",
      "competition_data\\test_set.csv (30235, 8)\n",
      "competition_data\\train_set.csv (30213, 8)\n",
      "competition_data\\tube.csv (21198, 16)\n",
      "competition_data\\tube_end_form.csv (27, 2)\n",
      "competition_data\\type_component.csv (29, 2)\n",
      "competition_data\\type_connection.csv (14, 2)\n",
      "competition_data\\type_end_form.csv (8, 2)\n"
     ]
    }
   ],
   "source": [
    "#Grab all the paths I'll need and print them out along with shape of a dataframe made from them\n",
    "from glob import glob\n",
    "\n",
    "for path in glob('competition_data/*.csv'):\n",
    "    df = pd.read_csv(path)\n",
    "    print(path,df.shape)"
   ]
  },
  {
   "cell_type": "code",
   "execution_count": 67,
   "metadata": {},
   "outputs": [],
   "source": [
    "#establish trainval and test set\n",
    "tube = pd.read_csv('competition_data/tube.csv')\n",
    "specs = pd.read_csv('competition_data/specs.csv')\n",
    "trainval = pd.read_csv('competition_data/train_set.csv')\n",
    "test = pd.read_csv('competition_data/test_set.csv')"
   ]
  },
  {
   "cell_type": "code",
   "execution_count": 18,
   "metadata": {},
   "outputs": [],
   "source": [
    "#Get array containing the unique tube assembly ids\n",
    "trainval_tube_assemblies = trainval['tube_assembly_id'].unique()\n",
    "test_tube_assemblies =test['tube_assembly_id'].unique()"
   ]
  },
  {
   "cell_type": "code",
   "execution_count": 19,
   "metadata": {},
   "outputs": [
    {
     "data": {
      "text/plain": [
       "array(['TA-00002', 'TA-00004', 'TA-00005', ..., 'TA-21195', 'TA-21196',\n",
       "       'TA-21197'], dtype=object)"
      ]
     },
     "execution_count": 19,
     "metadata": {},
     "output_type": "execute_result"
    }
   ],
   "source": [
    "trainval_tube_assemblies"
   ]
  },
  {
   "cell_type": "code",
   "execution_count": 20,
   "metadata": {},
   "outputs": [],
   "source": [
    "from sklearn.model_selection import train_test_split\n",
    "train_tube_assemblies, val_tube_assemblies = train_test_split(trainval_tube_assemblies, random_state =42)"
   ]
  },
  {
   "cell_type": "code",
   "execution_count": 21,
   "metadata": {},
   "outputs": [
    {
     "data": {
      "text/plain": [
       "set()"
      ]
     },
     "execution_count": 21,
     "metadata": {},
     "output_type": "execute_result"
    }
   ],
   "source": [
    "#Ensure no matching ids\n",
    "set(train_tube_assemblies)&set(val_tube_assemblies)"
   ]
  },
  {
   "cell_type": "code",
   "execution_count": 27,
   "metadata": {
    "scrolled": true
   },
   "outputs": [
    {
     "data": {
      "text/plain": [
       "((22628, 8), (7585, 8), (30213, 8))"
      ]
     },
     "execution_count": 27,
     "metadata": {},
     "output_type": "execute_result"
    }
   ],
   "source": [
    "#Establish train and val dataframes\n",
    "train = trainval[trainval['tube_assembly_id'].isin(train_tube_assemblies)]\n",
    "val = trainval[trainval['tube_assembly_id'].isin(val_tube_assemblies)]\n",
    "#Ensure shapes equal to trainval shape\n",
    "train.shape, val.shape, trainval.shape"
   ]
  },
  {
   "cell_type": "code",
   "execution_count": 58,
   "metadata": {},
   "outputs": [
    {
     "data": {
      "text/plain": [
       "tube_assembly_id        0\n",
       "component_id_1       2049\n",
       "quantity_1           2049\n",
       "component_id_2       6412\n",
       "quantity_2           6412\n",
       "component_id_3      16407\n",
       "quantity_3          16400\n",
       "component_id_4      20591\n",
       "quantity_4          20590\n",
       "component_id_5      21106\n",
       "quantity_5          21106\n",
       "component_id_6      21172\n",
       "quantity_6          21172\n",
       "component_id_7      21191\n",
       "quantity_7          21191\n",
       "component_id_8      21197\n",
       "quantity_8          21197\n",
       "dtype: int64"
      ]
     },
     "execution_count": 58,
     "metadata": {},
     "output_type": "execute_result"
    }
   ],
   "source": [
    "bill.isna().sum()"
   ]
  },
  {
   "cell_type": "code",
   "execution_count": 63,
   "metadata": {},
   "outputs": [],
   "source": [
    "#Separate extra csvs into train and val early\n",
    "train_tube = tube[tube['tube_assembly_id'].isin(train_tube_assemblies)]\n",
    "val_tube = tube[tube['tube_assembly_id'].isin(val_tube_assemblies)]"
   ]
  },
  {
   "cell_type": "code",
   "execution_count": 68,
   "metadata": {},
   "outputs": [],
   "source": [
    "train_specs = specs[specs['tube_assembly_id'].isin(train_tube_assemblies)]\n",
    "val_specs = specs[specs['tube_assembly_id'].isin(val_tube_assemblies)]"
   ]
  },
  {
   "cell_type": "code",
   "execution_count": 61,
   "metadata": {},
   "outputs": [],
   "source": [
    "#Add in features from tube.csv\n",
    "train_w_tubes = train.merge(train_tube, how='left')\n",
    "val_w_tubes = val.merge(val_tube, how='left')"
   ]
  },
  {
   "cell_type": "code",
   "execution_count": 73,
   "metadata": {},
   "outputs": [
    {
     "data": {
      "text/plain": [
       "((22628, 33), (7585, 33))"
      ]
     },
     "execution_count": 73,
     "metadata": {},
     "output_type": "execute_result"
    }
   ],
   "source": [
    "#The other files are far too small to use for predicting\n",
    "#Ths two that aren't have proven to contain almost no actual information\n",
    "#Therefore, realistically, these frames are not likely to actually help\n",
    "#So I won't be using them in my predictions\n",
    "useless_train = train_w_tubes.merge(train_specs, how='left')\n",
    "useless_val = val_w_tubes.merge(val_specs, how='left')\n",
    "useless_train.shape, useless_val.shape"
   ]
  },
  {
   "cell_type": "code",
   "execution_count": 75,
   "metadata": {},
   "outputs": [
    {
     "data": {
      "text/html": [
       "<div>\n",
       "<style scoped>\n",
       "    .dataframe tbody tr th:only-of-type {\n",
       "        vertical-align: middle;\n",
       "    }\n",
       "\n",
       "    .dataframe tbody tr th {\n",
       "        vertical-align: top;\n",
       "    }\n",
       "\n",
       "    .dataframe thead th {\n",
       "        text-align: right;\n",
       "    }\n",
       "</style>\n",
       "<table border=\"1\" class=\"dataframe\">\n",
       "  <thead>\n",
       "    <tr style=\"text-align: right;\">\n",
       "      <th></th>\n",
       "      <th>tube_assembly_id</th>\n",
       "      <th>material_id</th>\n",
       "      <th>diameter</th>\n",
       "      <th>wall</th>\n",
       "      <th>length</th>\n",
       "      <th>num_bends</th>\n",
       "      <th>bend_radius</th>\n",
       "      <th>end_a_1x</th>\n",
       "      <th>end_a_2x</th>\n",
       "      <th>end_x_1x</th>\n",
       "      <th>end_x_2x</th>\n",
       "      <th>end_a</th>\n",
       "      <th>end_x</th>\n",
       "      <th>num_boss</th>\n",
       "      <th>num_bracket</th>\n",
       "      <th>other</th>\n",
       "    </tr>\n",
       "  </thead>\n",
       "  <tbody>\n",
       "    <tr>\n",
       "      <th>17325</th>\n",
       "      <td>TA-17326</td>\n",
       "      <td>SP-0029</td>\n",
       "      <td>25.40</td>\n",
       "      <td>1.65</td>\n",
       "      <td>109.0</td>\n",
       "      <td>4</td>\n",
       "      <td>50.80</td>\n",
       "      <td>N</td>\n",
       "      <td>N</td>\n",
       "      <td>N</td>\n",
       "      <td>N</td>\n",
       "      <td>EF-017</td>\n",
       "      <td>EF-017</td>\n",
       "      <td>0</td>\n",
       "      <td>0</td>\n",
       "      <td>0</td>\n",
       "    </tr>\n",
       "    <tr>\n",
       "      <th>12414</th>\n",
       "      <td>TA-12415</td>\n",
       "      <td>SP-0028</td>\n",
       "      <td>6.35</td>\n",
       "      <td>0.89</td>\n",
       "      <td>24.0</td>\n",
       "      <td>2</td>\n",
       "      <td>19.05</td>\n",
       "      <td>N</td>\n",
       "      <td>N</td>\n",
       "      <td>N</td>\n",
       "      <td>N</td>\n",
       "      <td>EF-018</td>\n",
       "      <td>EF-018</td>\n",
       "      <td>0</td>\n",
       "      <td>0</td>\n",
       "      <td>0</td>\n",
       "    </tr>\n",
       "    <tr>\n",
       "      <th>7120</th>\n",
       "      <td>TA-07121</td>\n",
       "      <td>SP-0028</td>\n",
       "      <td>50.80</td>\n",
       "      <td>1.65</td>\n",
       "      <td>62.0</td>\n",
       "      <td>2</td>\n",
       "      <td>101.60</td>\n",
       "      <td>N</td>\n",
       "      <td>Y</td>\n",
       "      <td>N</td>\n",
       "      <td>N</td>\n",
       "      <td>EF-017</td>\n",
       "      <td>EF-017</td>\n",
       "      <td>0</td>\n",
       "      <td>0</td>\n",
       "      <td>0</td>\n",
       "    </tr>\n",
       "    <tr>\n",
       "      <th>9023</th>\n",
       "      <td>TA-09024</td>\n",
       "      <td>NaN</td>\n",
       "      <td>15.88</td>\n",
       "      <td>1.65</td>\n",
       "      <td>43.0</td>\n",
       "      <td>3</td>\n",
       "      <td>38.10</td>\n",
       "      <td>N</td>\n",
       "      <td>N</td>\n",
       "      <td>N</td>\n",
       "      <td>N</td>\n",
       "      <td>EF-003</td>\n",
       "      <td>EF-003</td>\n",
       "      <td>0</td>\n",
       "      <td>0</td>\n",
       "      <td>0</td>\n",
       "    </tr>\n",
       "    <tr>\n",
       "      <th>2675</th>\n",
       "      <td>TA-02676</td>\n",
       "      <td>SP-0029</td>\n",
       "      <td>9.52</td>\n",
       "      <td>1.24</td>\n",
       "      <td>105.0</td>\n",
       "      <td>6</td>\n",
       "      <td>31.75</td>\n",
       "      <td>N</td>\n",
       "      <td>N</td>\n",
       "      <td>N</td>\n",
       "      <td>N</td>\n",
       "      <td>EF-003</td>\n",
       "      <td>EF-003</td>\n",
       "      <td>0</td>\n",
       "      <td>0</td>\n",
       "      <td>0</td>\n",
       "    </tr>\n",
       "    <tr>\n",
       "      <th>10750</th>\n",
       "      <td>TA-10751</td>\n",
       "      <td>SP-0029</td>\n",
       "      <td>25.40</td>\n",
       "      <td>1.65</td>\n",
       "      <td>57.0</td>\n",
       "      <td>2</td>\n",
       "      <td>63.50</td>\n",
       "      <td>N</td>\n",
       "      <td>N</td>\n",
       "      <td>N</td>\n",
       "      <td>N</td>\n",
       "      <td>EF-003</td>\n",
       "      <td>EF-003</td>\n",
       "      <td>0</td>\n",
       "      <td>0</td>\n",
       "      <td>0</td>\n",
       "    </tr>\n",
       "    <tr>\n",
       "      <th>10469</th>\n",
       "      <td>TA-10470</td>\n",
       "      <td>SP-0028</td>\n",
       "      <td>76.20</td>\n",
       "      <td>1.65</td>\n",
       "      <td>64.0</td>\n",
       "      <td>1</td>\n",
       "      <td>101.60</td>\n",
       "      <td>Y</td>\n",
       "      <td>Y</td>\n",
       "      <td>N</td>\n",
       "      <td>N</td>\n",
       "      <td>EF-012</td>\n",
       "      <td>EF-017</td>\n",
       "      <td>0</td>\n",
       "      <td>0</td>\n",
       "      <td>0</td>\n",
       "    </tr>\n",
       "    <tr>\n",
       "      <th>566</th>\n",
       "      <td>TA-00567</td>\n",
       "      <td>SP-0035</td>\n",
       "      <td>6.35</td>\n",
       "      <td>0.89</td>\n",
       "      <td>33.0</td>\n",
       "      <td>2</td>\n",
       "      <td>19.05</td>\n",
       "      <td>N</td>\n",
       "      <td>N</td>\n",
       "      <td>N</td>\n",
       "      <td>N</td>\n",
       "      <td>EF-018</td>\n",
       "      <td>EF-018</td>\n",
       "      <td>0</td>\n",
       "      <td>0</td>\n",
       "      <td>0</td>\n",
       "    </tr>\n",
       "    <tr>\n",
       "      <th>10191</th>\n",
       "      <td>TA-10192</td>\n",
       "      <td>SP-0028</td>\n",
       "      <td>63.50</td>\n",
       "      <td>1.65</td>\n",
       "      <td>18.0</td>\n",
       "      <td>0</td>\n",
       "      <td>0.00</td>\n",
       "      <td>N</td>\n",
       "      <td>N</td>\n",
       "      <td>N</td>\n",
       "      <td>N</td>\n",
       "      <td>EF-009</td>\n",
       "      <td>EF-009</td>\n",
       "      <td>0</td>\n",
       "      <td>0</td>\n",
       "      <td>0</td>\n",
       "    </tr>\n",
       "    <tr>\n",
       "      <th>5963</th>\n",
       "      <td>TA-05964</td>\n",
       "      <td>SP-0028</td>\n",
       "      <td>38.10</td>\n",
       "      <td>1.65</td>\n",
       "      <td>151.0</td>\n",
       "      <td>2</td>\n",
       "      <td>114.30</td>\n",
       "      <td>N</td>\n",
       "      <td>N</td>\n",
       "      <td>N</td>\n",
       "      <td>N</td>\n",
       "      <td>NONE</td>\n",
       "      <td>NONE</td>\n",
       "      <td>0</td>\n",
       "      <td>0</td>\n",
       "      <td>0</td>\n",
       "    </tr>\n",
       "  </tbody>\n",
       "</table>\n",
       "</div>"
      ],
      "text/plain": [
       "      tube_assembly_id material_id  diameter  wall  length  num_bends  \\\n",
       "17325         TA-17326     SP-0029     25.40  1.65   109.0          4   \n",
       "12414         TA-12415     SP-0028      6.35  0.89    24.0          2   \n",
       "7120          TA-07121     SP-0028     50.80  1.65    62.0          2   \n",
       "9023          TA-09024         NaN     15.88  1.65    43.0          3   \n",
       "2675          TA-02676     SP-0029      9.52  1.24   105.0          6   \n",
       "10750         TA-10751     SP-0029     25.40  1.65    57.0          2   \n",
       "10469         TA-10470     SP-0028     76.20  1.65    64.0          1   \n",
       "566           TA-00567     SP-0035      6.35  0.89    33.0          2   \n",
       "10191         TA-10192     SP-0028     63.50  1.65    18.0          0   \n",
       "5963          TA-05964     SP-0028     38.10  1.65   151.0          2   \n",
       "\n",
       "       bend_radius end_a_1x end_a_2x end_x_1x end_x_2x   end_a   end_x  \\\n",
       "17325        50.80        N        N        N        N  EF-017  EF-017   \n",
       "12414        19.05        N        N        N        N  EF-018  EF-018   \n",
       "7120        101.60        N        Y        N        N  EF-017  EF-017   \n",
       "9023         38.10        N        N        N        N  EF-003  EF-003   \n",
       "2675         31.75        N        N        N        N  EF-003  EF-003   \n",
       "10750        63.50        N        N        N        N  EF-003  EF-003   \n",
       "10469       101.60        Y        Y        N        N  EF-012  EF-017   \n",
       "566          19.05        N        N        N        N  EF-018  EF-018   \n",
       "10191         0.00        N        N        N        N  EF-009  EF-009   \n",
       "5963        114.30        N        N        N        N    NONE    NONE   \n",
       "\n",
       "       num_boss  num_bracket  other  \n",
       "17325         0            0      0  \n",
       "12414         0            0      0  \n",
       "7120          0            0      0  \n",
       "9023          0            0      0  \n",
       "2675          0            0      0  \n",
       "10750         0            0      0  \n",
       "10469         0            0      0  \n",
       "566           0            0      0  \n",
       "10191         0            0      0  \n",
       "5963          0            0      0  "
      ]
     },
     "execution_count": 75,
     "metadata": {},
     "output_type": "execute_result"
    }
   ],
   "source": [
    "#Having a look at our features from tube\n",
    "train_tube.sample(10)"
   ]
  },
  {
   "cell_type": "code",
   "execution_count": 81,
   "metadata": {},
   "outputs": [],
   "source": [
    "from sklearn.ensemble import RandomForestRegressor\n",
    "import category_encoders as ce\n",
    "from sklearn.pipeline import make_pipeline\n",
    "\n",
    "pipeline = make_pipeline(ce.OrdinalEncoder(),\n",
    "                         RandomForestRegressor(n_estimators = 100, random_state = 42))"
   ]
  },
  {
   "cell_type": "code",
   "execution_count": 78,
   "metadata": {},
   "outputs": [],
   "source": [
    "def wrangle(X):\n",
    "    X = X.copy()\n",
    "    \n",
    "    # Engineer date features\n",
    "    X['quote_date'] = pd.to_datetime(X['quote_date'], infer_datetime_format=True)\n",
    "    X['quote_date_year'] = X['quote_date'].dt.year\n",
    "    X['quote_date_month'] = X['quote_date'].dt.month\n",
    "    X = X.drop(columns='quote_date')\n",
    "    \n",
    "    # Drop tube_assembly_id because our goal is to predict unknown assemblies\n",
    "    X = X.drop(columns='tube_assembly_id')\n",
    "    \n",
    "    return X\n",
    "\n",
    "train_wrangled = wrangle(train_w_tubes)\n",
    "val_wrangled = wrangle(val_w_tubes)"
   ]
  },
  {
   "cell_type": "code",
   "execution_count": 82,
   "metadata": {},
   "outputs": [],
   "source": [
    "#X features and y target matrices\n",
    "target = 'cost'\n",
    "features = train_wrangled.columns.drop(target)\n",
    "X_train = train_wrangled[features]\n",
    "X_val = val_wrangled[features]\n",
    "\n",
    "y_train = train_wrangled[target]\n",
    "y_val = val_wrangled[target]"
   ]
  },
  {
   "cell_type": "code",
   "execution_count": 83,
   "metadata": {},
   "outputs": [
    {
     "data": {
      "text/plain": [
       "Pipeline(memory=None,\n",
       "     steps=[('ordinalencoder', OrdinalEncoder(cols=['supplier', 'bracket_pricing', 'material_id', 'end_a_1x', 'end_a_2x', 'end_x_1x', 'end_x_2x', 'end_a', 'end_x'],\n",
       "        drop_invariant=False, handle_missing='value',\n",
       "        handle_unknown='value',\n",
       "        mapping=[{'col': 'supplier', 'mapping': S-0066...mators=100, n_jobs=None,\n",
       "           oob_score=False, random_state=42, verbose=0, warm_start=False))])"
      ]
     },
     "execution_count": 83,
     "metadata": {},
     "output_type": "execute_result"
    }
   ],
   "source": [
    "#Fit pipeline\n",
    "pipeline.fit(X_train, y_train)"
   ]
  },
  {
   "cell_type": "code",
   "execution_count": 85,
   "metadata": {},
   "outputs": [],
   "source": [
    "from sklearn.metrics import mean_squared_log_error\n",
    "\n",
    "def rmsle(y_true, y_pred):\n",
    "    return np.sqrt(mean_squared_log_error(y_true, y_pred))"
   ]
  },
  {
   "cell_type": "code",
   "execution_count": 86,
   "metadata": {},
   "outputs": [
    {
     "data": {
      "text/plain": [
       "0.3476490503671542"
      ]
     },
     "execution_count": 86,
     "metadata": {},
     "output_type": "execute_result"
    }
   ],
   "source": [
    "y_pred = pipeline.predict(X_val)\n",
    "rmsle(y_val, y_pred)"
   ]
  }
 ],
 "metadata": {
  "kernelspec": {
   "display_name": "Python 3",
   "language": "python",
   "name": "python3"
  },
  "language_info": {
   "codemirror_mode": {
    "name": "ipython",
    "version": 3
   },
   "file_extension": ".py",
   "mimetype": "text/x-python",
   "name": "python",
   "nbconvert_exporter": "python",
   "pygments_lexer": "ipython3",
   "version": "3.7.1"
  }
 },
 "nbformat": 4,
 "nbformat_minor": 2
}
