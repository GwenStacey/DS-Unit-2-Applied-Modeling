{
 "cells": [
  {
   "cell_type": "code",
   "execution_count": 1,
   "metadata": {},
   "outputs": [],
   "source": [
    "import pandas as pd\n",
    "import numpy as np\n",
    "import matplotlib.pyplot as plt"
   ]
  },
  {
   "cell_type": "code",
   "execution_count": 2,
   "metadata": {},
   "outputs": [],
   "source": [
    "#Glob in my dataframes\n",
    "SOURCE = '../competition_data/'\n",
    "\n",
    "from glob import glob\n",
    "\n",
    "data = {}\n",
    "for path in glob(SOURCE + '*.csv'):\n",
    "    df = pd.read_csv(path)\n",
    "    filename = path.split('/')[-1]\n",
    "    filename2 = filename.split('\\\\')[1]\n",
    "    name = filename2.split('.')[0]\n",
    "    data[name] = df"
   ]
  },
  {
   "cell_type": "code",
   "execution_count": 3,
   "metadata": {},
   "outputs": [
    {
     "data": {
      "text/plain": [
       "dict_keys(['bill_of_materials', 'components', 'comp_adaptor', 'comp_boss', 'comp_elbow', 'comp_float', 'comp_hfl', 'comp_nut', 'comp_other', 'comp_sleeve', 'comp_straight', 'comp_tee', 'comp_threaded', 'sample_submission', 'specs', 'test_set', 'train_set', 'tube', 'tube_end_form', 'type_component', 'type_connection', 'type_end_form'])"
      ]
     },
     "execution_count": 3,
     "metadata": {},
     "output_type": "execute_result"
    }
   ],
   "source": [
    "#Check our work\n",
    "data.keys()"
   ]
  },
  {
   "cell_type": "code",
   "execution_count": 4,
   "metadata": {},
   "outputs": [],
   "source": [
    "trainval = data['train_set']\n",
    "test = data['test_set']"
   ]
  },
  {
   "cell_type": "code",
   "execution_count": 10,
   "metadata": {},
   "outputs": [
    {
     "data": {
      "text/html": [
       "<div>\n",
       "<style scoped>\n",
       "    .dataframe tbody tr th:only-of-type {\n",
       "        vertical-align: middle;\n",
       "    }\n",
       "\n",
       "    .dataframe tbody tr th {\n",
       "        vertical-align: top;\n",
       "    }\n",
       "\n",
       "    .dataframe thead th {\n",
       "        text-align: right;\n",
       "    }\n",
       "</style>\n",
       "<table border=\"1\" class=\"dataframe\">\n",
       "  <thead>\n",
       "    <tr style=\"text-align: right;\">\n",
       "      <th></th>\n",
       "      <th>component_id</th>\n",
       "      <th>name</th>\n",
       "      <th>component_type_id</th>\n",
       "    </tr>\n",
       "  </thead>\n",
       "  <tbody>\n",
       "    <tr>\n",
       "      <th>0</th>\n",
       "      <td>9999</td>\n",
       "      <td>OTHER</td>\n",
       "      <td>OTHER</td>\n",
       "    </tr>\n",
       "    <tr>\n",
       "      <th>1</th>\n",
       "      <td>C-0001</td>\n",
       "      <td>SLEEVE</td>\n",
       "      <td>CP-024</td>\n",
       "    </tr>\n",
       "    <tr>\n",
       "      <th>2</th>\n",
       "      <td>C-0002</td>\n",
       "      <td>SLEEVE</td>\n",
       "      <td>CP-024</td>\n",
       "    </tr>\n",
       "    <tr>\n",
       "      <th>3</th>\n",
       "      <td>C-0003</td>\n",
       "      <td>SLEEVE-FLARED</td>\n",
       "      <td>CP-024</td>\n",
       "    </tr>\n",
       "    <tr>\n",
       "      <th>4</th>\n",
       "      <td>C-0004</td>\n",
       "      <td>NUT</td>\n",
       "      <td>CP-026</td>\n",
       "    </tr>\n",
       "  </tbody>\n",
       "</table>\n",
       "</div>"
      ],
      "text/plain": [
       "  component_id           name component_type_id\n",
       "0         9999          OTHER             OTHER\n",
       "1       C-0001         SLEEVE            CP-024\n",
       "2       C-0002         SLEEVE            CP-024\n",
       "3       C-0003  SLEEVE-FLARED            CP-024\n",
       "4       C-0004            NUT            CP-026"
      ]
     },
     "execution_count": 10,
     "metadata": {},
     "output_type": "execute_result"
    }
   ],
   "source": [
    "components = data['components']\n",
    "materials = data['bill_of_materials']\n",
    "\n",
    "components.head()"
   ]
  },
  {
   "cell_type": "code",
   "execution_count": 17,
   "metadata": {},
   "outputs": [
    {
     "data": {
      "text/html": [
       "<div>\n",
       "<style scoped>\n",
       "    .dataframe tbody tr th:only-of-type {\n",
       "        vertical-align: middle;\n",
       "    }\n",
       "\n",
       "    .dataframe tbody tr th {\n",
       "        vertical-align: top;\n",
       "    }\n",
       "\n",
       "    .dataframe thead th {\n",
       "        text-align: right;\n",
       "    }\n",
       "</style>\n",
       "<table border=\"1\" class=\"dataframe\">\n",
       "  <thead>\n",
       "    <tr style=\"text-align: right;\">\n",
       "      <th></th>\n",
       "      <th>component_id</th>\n",
       "      <th>name</th>\n",
       "      <th>component_type_id</th>\n",
       "    </tr>\n",
       "  </thead>\n",
       "  <tbody>\n",
       "    <tr>\n",
       "      <th>25</th>\n",
       "      <td>C-0025</td>\n",
       "      <td>TUBE-LUBRICATION</td>\n",
       "      <td>OTHER</td>\n",
       "    </tr>\n",
       "  </tbody>\n",
       "</table>\n",
       "</div>"
      ],
      "text/plain": [
       "   component_id              name component_type_id\n",
       "25       C-0025  TUBE-LUBRICATION             OTHER"
      ]
     },
     "execution_count": 17,
     "metadata": {},
     "output_type": "execute_result"
    }
   ],
   "source": [
    "components[components['component_id']=='C-0025']"
   ]
  },
  {
   "cell_type": "code",
   "execution_count": 11,
   "metadata": {},
   "outputs": [
    {
     "data": {
      "text/html": [
       "<div>\n",
       "<style scoped>\n",
       "    .dataframe tbody tr th:only-of-type {\n",
       "        vertical-align: middle;\n",
       "    }\n",
       "\n",
       "    .dataframe tbody tr th {\n",
       "        vertical-align: top;\n",
       "    }\n",
       "\n",
       "    .dataframe thead th {\n",
       "        text-align: right;\n",
       "    }\n",
       "</style>\n",
       "<table border=\"1\" class=\"dataframe\">\n",
       "  <thead>\n",
       "    <tr style=\"text-align: right;\">\n",
       "      <th></th>\n",
       "      <th>tube_assembly_id</th>\n",
       "      <th>component_id_1</th>\n",
       "      <th>quantity_1</th>\n",
       "      <th>component_id_2</th>\n",
       "      <th>quantity_2</th>\n",
       "      <th>component_id_3</th>\n",
       "      <th>quantity_3</th>\n",
       "      <th>component_id_4</th>\n",
       "      <th>quantity_4</th>\n",
       "      <th>component_id_5</th>\n",
       "      <th>quantity_5</th>\n",
       "      <th>component_id_6</th>\n",
       "      <th>quantity_6</th>\n",
       "      <th>component_id_7</th>\n",
       "      <th>quantity_7</th>\n",
       "      <th>component_id_8</th>\n",
       "      <th>quantity_8</th>\n",
       "    </tr>\n",
       "  </thead>\n",
       "  <tbody>\n",
       "    <tr>\n",
       "      <th>0</th>\n",
       "      <td>TA-00001</td>\n",
       "      <td>C-1622</td>\n",
       "      <td>2.0</td>\n",
       "      <td>C-1629</td>\n",
       "      <td>2.0</td>\n",
       "      <td>NaN</td>\n",
       "      <td>NaN</td>\n",
       "      <td>NaN</td>\n",
       "      <td>NaN</td>\n",
       "      <td>NaN</td>\n",
       "      <td>NaN</td>\n",
       "      <td>NaN</td>\n",
       "      <td>NaN</td>\n",
       "      <td>NaN</td>\n",
       "      <td>NaN</td>\n",
       "      <td>NaN</td>\n",
       "      <td>NaN</td>\n",
       "    </tr>\n",
       "    <tr>\n",
       "      <th>1</th>\n",
       "      <td>TA-00002</td>\n",
       "      <td>C-1312</td>\n",
       "      <td>2.0</td>\n",
       "      <td>NaN</td>\n",
       "      <td>NaN</td>\n",
       "      <td>NaN</td>\n",
       "      <td>NaN</td>\n",
       "      <td>NaN</td>\n",
       "      <td>NaN</td>\n",
       "      <td>NaN</td>\n",
       "      <td>NaN</td>\n",
       "      <td>NaN</td>\n",
       "      <td>NaN</td>\n",
       "      <td>NaN</td>\n",
       "      <td>NaN</td>\n",
       "      <td>NaN</td>\n",
       "      <td>NaN</td>\n",
       "    </tr>\n",
       "    <tr>\n",
       "      <th>2</th>\n",
       "      <td>TA-00003</td>\n",
       "      <td>C-1312</td>\n",
       "      <td>2.0</td>\n",
       "      <td>NaN</td>\n",
       "      <td>NaN</td>\n",
       "      <td>NaN</td>\n",
       "      <td>NaN</td>\n",
       "      <td>NaN</td>\n",
       "      <td>NaN</td>\n",
       "      <td>NaN</td>\n",
       "      <td>NaN</td>\n",
       "      <td>NaN</td>\n",
       "      <td>NaN</td>\n",
       "      <td>NaN</td>\n",
       "      <td>NaN</td>\n",
       "      <td>NaN</td>\n",
       "      <td>NaN</td>\n",
       "    </tr>\n",
       "    <tr>\n",
       "      <th>3</th>\n",
       "      <td>TA-00004</td>\n",
       "      <td>C-1312</td>\n",
       "      <td>2.0</td>\n",
       "      <td>NaN</td>\n",
       "      <td>NaN</td>\n",
       "      <td>NaN</td>\n",
       "      <td>NaN</td>\n",
       "      <td>NaN</td>\n",
       "      <td>NaN</td>\n",
       "      <td>NaN</td>\n",
       "      <td>NaN</td>\n",
       "      <td>NaN</td>\n",
       "      <td>NaN</td>\n",
       "      <td>NaN</td>\n",
       "      <td>NaN</td>\n",
       "      <td>NaN</td>\n",
       "      <td>NaN</td>\n",
       "    </tr>\n",
       "    <tr>\n",
       "      <th>4</th>\n",
       "      <td>TA-00005</td>\n",
       "      <td>C-1624</td>\n",
       "      <td>1.0</td>\n",
       "      <td>C-1631</td>\n",
       "      <td>1.0</td>\n",
       "      <td>C-1641</td>\n",
       "      <td>1.0</td>\n",
       "      <td>NaN</td>\n",
       "      <td>NaN</td>\n",
       "      <td>NaN</td>\n",
       "      <td>NaN</td>\n",
       "      <td>NaN</td>\n",
       "      <td>NaN</td>\n",
       "      <td>NaN</td>\n",
       "      <td>NaN</td>\n",
       "      <td>NaN</td>\n",
       "      <td>NaN</td>\n",
       "    </tr>\n",
       "  </tbody>\n",
       "</table>\n",
       "</div>"
      ],
      "text/plain": [
       "  tube_assembly_id component_id_1  quantity_1 component_id_2  quantity_2  \\\n",
       "0         TA-00001         C-1622         2.0         C-1629         2.0   \n",
       "1         TA-00002         C-1312         2.0            NaN         NaN   \n",
       "2         TA-00003         C-1312         2.0            NaN         NaN   \n",
       "3         TA-00004         C-1312         2.0            NaN         NaN   \n",
       "4         TA-00005         C-1624         1.0         C-1631         1.0   \n",
       "\n",
       "  component_id_3  quantity_3 component_id_4  quantity_4 component_id_5  \\\n",
       "0            NaN         NaN            NaN         NaN            NaN   \n",
       "1            NaN         NaN            NaN         NaN            NaN   \n",
       "2            NaN         NaN            NaN         NaN            NaN   \n",
       "3            NaN         NaN            NaN         NaN            NaN   \n",
       "4         C-1641         1.0            NaN         NaN            NaN   \n",
       "\n",
       "   quantity_5 component_id_6  quantity_6 component_id_7  quantity_7  \\\n",
       "0         NaN            NaN         NaN            NaN         NaN   \n",
       "1         NaN            NaN         NaN            NaN         NaN   \n",
       "2         NaN            NaN         NaN            NaN         NaN   \n",
       "3         NaN            NaN         NaN            NaN         NaN   \n",
       "4         NaN            NaN         NaN            NaN         NaN   \n",
       "\n",
       "  component_id_8  quantity_8  \n",
       "0            NaN         NaN  \n",
       "1            NaN         NaN  \n",
       "2            NaN         NaN  \n",
       "3            NaN         NaN  \n",
       "4            NaN         NaN  "
      ]
     },
     "execution_count": 11,
     "metadata": {},
     "output_type": "execute_result"
    }
   ],
   "source": [
    "materials.head()"
   ]
  },
  {
   "cell_type": "code",
   "execution_count": 5,
   "metadata": {},
   "outputs": [],
   "source": [
    "trainval_tube_assemblies = trainval['tube_assembly_id'].unique()"
   ]
  },
  {
   "cell_type": "code",
   "execution_count": 6,
   "metadata": {},
   "outputs": [],
   "source": [
    "#split trainval array based on unique ids\n",
    "from sklearn.model_selection import train_test_split\n",
    "train_tube_assemblies, val_tube_assemblies = train_test_split(trainval_tube_assemblies, random_state =42)"
   ]
  },
  {
   "cell_type": "code",
   "execution_count": 7,
   "metadata": {},
   "outputs": [
    {
     "data": {
      "text/plain": [
       "set()"
      ]
     },
     "execution_count": 7,
     "metadata": {},
     "output_type": "execute_result"
    }
   ],
   "source": [
    "#Ensure no matching ids\n",
    "set(train_tube_assemblies)&set(val_tube_assemblies)"
   ]
  },
  {
   "cell_type": "code",
   "execution_count": 8,
   "metadata": {
    "scrolled": true
   },
   "outputs": [
    {
     "data": {
      "text/plain": [
       "((22628, 8), (7585, 8), (30213, 8))"
      ]
     },
     "execution_count": 8,
     "metadata": {},
     "output_type": "execute_result"
    }
   ],
   "source": [
    "#Establish train and val dataframes\n",
    "train = trainval[trainval['tube_assembly_id'].isin(train_tube_assemblies)]\n",
    "val = trainval[trainval['tube_assembly_id'].isin(val_tube_assemblies)]\n",
    "#Ensure shapes equal to trainval shape\n",
    "train.shape, val.shape, trainval.shape"
   ]
  },
  {
   "cell_type": "code",
   "execution_count": 9,
   "metadata": {},
   "outputs": [],
   "source": [
    "import category_encoders as ce\n",
    "from sklearn.ensemble import RandomForestRegressor\n",
    "from sklearn.metrics import mean_squared_error, mean_squared_log_error\n",
    "from sklearn.model_selection import train_test_split\n",
    "from sklearn.pipeline import make_pipeline\n",
    "\n",
    "def clean_it_up(X):\n",
    "    X = X.copy()\n",
    "    \n",
    "    #Convert quote date to datetime create month and year feature\n",
    "    X['quote_date'] = pd.to_datetime(X['quote_date'], infer_datetime_format = True)\n",
    "    X['quote_year'] = X['quote_date'].dt.year\n",
    "    X['quote_month'] = X['quote_date'].dt.month\n",
    "    X = X.drop(columns = 'quote_date')\n",
    "    \n",
    "    #Merge in tube\n",
    "    tube = data['tube']\n",
    "    X = X.merge(tube, how = 'left')\n",
    "    \n",
    "    #Engineer features from bill_of_materials\n",
    "    materials = data['bill_of_materials']\n",
    "    \n",
    "    materials['components_total'] = (materials['quantity_1'].fillna(0) + \n",
    "                                     materials['quantity_2'].fillna(0) + \n",
    "                                     materials['quantity_3'].fillna(0) + \n",
    "                                     materials['quantity_4'].fillna(0) + \n",
    "                                     materials['quantity_5'].fillna(0) + \n",
    "                                     materials['quantity_6'].fillna(0) + \n",
    "                                     materials['quantity_7'].fillna(0) + \n",
    "                                     materials['quantity_8'].fillna(0))\n",
    "    \n",
    "    materials['components_distinct'] = (materials['component_id_1'].notnull().astype(int) + \n",
    "                                        materials['component_id_2'].notnull().astype(int) + \n",
    "                                        materials['component_id_3'].notnull().astype(int) + \n",
    "                                        materials['component_id_4'].notnull().astype(int) + \n",
    "                                        materials['component_id_5'].notnull().astype(int) + \n",
    "                                        materials['component_id_6'].notnull().astype(int) + \n",
    "                                        materials['component_id_7'].notnull().astype(int) + \n",
    "                                        materials['component_id_8'].notnull().astype(int))\n",
    "    \n",
    "    #Merge in just the new features\n",
    "    features = ['tube_assembly_id','component_id_1', 'components_total', 'components_distinct']\n",
    "    X = X.merge(materials[features], how = 'left')\n",
    "    \n",
    "    #Get component_type_id, lower cardinality than component_type\n",
    "    components = data['components']\n",
    "    components = components.rename(columns={'component_id':'component_id_1'})\n",
    "    features = ['component_id_1', 'component_type_id']\n",
    "    X = X.merge(components[features], how = 'left')\n",
    "    \n",
    "    #Get total of specs for tubes\n",
    "    specs = data['specs']\n",
    "    specs['specs_total'] = specs.drop(columns = ['tube_assembly_id']).count(axis = 1)\n",
    "    features = ['tube_assembly_id', 'specs_total', 'spec1']\n",
    "    X = X.merge(specs[features], how = 'left')\n",
    "    \n",
    "    #Drop tube_assembly_id because goal is to predict unknown assemblies\n",
    "    X = X.drop(columns = 'tube_assembly_id')\n",
    "    \n",
    "    return X\n",
    "\n",
    "train = clean_it_up(train)\n",
    "val = clean_it_up(val)\n",
    "test = clean_it_up(test)"
   ]
  },
  {
   "cell_type": "code",
   "execution_count": 10,
   "metadata": {},
   "outputs": [],
   "source": [
    "#Arrange into X features and y target\n",
    "target = 'cost'\n",
    "X_train = train.drop(columns = target)\n",
    "X_val = val.drop(columns =target)\n",
    "X_test = test.drop(columns = 'id')\n",
    "\n",
    "y_train = train[target]\n",
    "y_val = val[target]\n",
    "#Log transformed for possible later use\n",
    "y_train_log = np.log1p(y_train)\n",
    "y_val_log = np.log1p(y_val)"
   ]
  },
  {
   "cell_type": "code",
   "execution_count": 21,
   "metadata": {},
   "outputs": [
    {
     "name": "stderr",
     "output_type": "stream",
     "text": [
      "C:\\ProgramData\\Anaconda3\\lib\\site-packages\\xgboost\\core.py:587: FutureWarning: Series.base is deprecated and will be removed in a future version\n",
      "  if getattr(data, 'base', None) is not None and \\\n"
     ]
    },
    {
     "name": "stdout",
     "output_type": "stream",
     "text": [
      "[20:38:42] WARNING: C:/Jenkins/workspace/xgboost-win64_release_0.90/src/objective/regression_obj.cu:152: reg:linear is now deprecated in favor of reg:squarederror.\n",
      "Validation Error : 0.2719603739172016\n"
     ]
    }
   ],
   "source": [
    "#Make pipeline\n",
    "from xgboost import XGBRegressor\n",
    "pipeline = make_pipeline(ce.OrdinalEncoder(),\n",
    "                         XGBRegressor(n_estimators = 1000, \n",
    "                                               n_jobs = -1))\n",
    "#Fit pipeline\n",
    "pipeline.fit(X_train, y_train_log)\n",
    "\n",
    "from sklearn.metrics import mean_squared_log_error\n",
    "\n",
    "def rmse(y_true, y_pred):\n",
    "    return np.sqrt(mean_squared_error(y_true, y_pred))\n",
    "def rmsle(y_true, y_pred):\n",
    "    return np.sqrt(mean_squared_log_error(y_true, y_pred))\n",
    "\n",
    "#Predict\n",
    "y_pred = pipeline.predict(X_val)\n",
    "print(f'Validation Error : {rmse(y_val_log, y_pred)}')\n",
    "\n",
    "def generate_submission(estimator, X_test, filename):\n",
    "    y_pred_log = estimator.predict(X_test)\n",
    "    y_pred = np.expm1(y_pred_log)\n",
    "    submission = data['sample_submission']\n",
    "    submission['cost'] = y_pred\n",
    "    submission.to_csv(filename, index=False)"
   ]
  },
  {
   "cell_type": "code",
   "execution_count": 22,
   "metadata": {},
   "outputs": [],
   "source": [
    "generate_submission(pipeline, X_test, 'submission1')"
   ]
  }
 ],
 "metadata": {
  "kernelspec": {
   "display_name": "Python 3",
   "language": "python",
   "name": "python3"
  },
  "language_info": {
   "codemirror_mode": {
    "name": "ipython",
    "version": 3
   },
   "file_extension": ".py",
   "mimetype": "text/x-python",
   "name": "python",
   "nbconvert_exporter": "python",
   "pygments_lexer": "ipython3",
   "version": "3.7.1"
  }
 },
 "nbformat": 4,
 "nbformat_minor": 2
}
